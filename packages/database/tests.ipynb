{
 "cells": [
  {
   "cell_type": "markdown",
   "id": "9325a28b-d1b8-45fc-90f8-318bee4d969d",
   "metadata": {},
   "source": [
    "This is a simple way to test the supabase API.\n",
    "\n",
    "It is not a continuous test environment, and does no error checking.\n",
    "It assumes you have turbo dev running, including a local Supabase and Docker.\n",
    "\n",
    "The main development environment variables in `turbo.json`/`dev` should also be defined."
   ]
  },
  {
   "cell_type": "code",
   "execution_count": null,
   "id": "2fba981f-55b2-4cf1-a95f-bf0122b6e1f8",
   "metadata": {},
   "outputs": [],
   "source": [
    "import requests\n",
    "import openai"
   ]
  },
  {
   "cell_type": "code",
   "execution_count": null,
   "id": "39af6c71-bebd-4d52-8d76-c8240306c8eb",
   "metadata": {},
   "outputs": [],
   "source": [
    "url_base = \"http://localhost:3000/api\""
   ]
  },
  {
   "cell_type": "code",
   "execution_count": null,
   "id": "97907e4e-bdc5-444e-a3d5-5c20dd5a8dde",
   "metadata": {},
   "outputs": [],
   "source": [
    "platform_r = requests.post(url_base+\"/supabase/platform\", json=dict(url=\"https://roamresearch.com\"))\n",
    "platform = platform_r.json()"
   ]
  },
  {
   "cell_type": "code",
   "execution_count": null,
   "id": "15402d19-6628-47b7-8c52-6c4c6d66ea22",
   "metadata": {},
   "outputs": [],
   "source": [
    "print(platform_r.status_code, platform)"
   ]
  },
  {
   "cell_type": "code",
   "execution_count": null,
   "id": "fdf0a6f2-0da6-4b30-89a8-40b6f06673d8",
   "metadata": {
    "scrolled": true
   },
   "outputs": [],
   "source": [
    "space_r = requests.post(url_base+\"/supabase/space\", json=dict(platform_id=platform['id'], url=\"http://roamresearch.com/#/app/discourse-graphs-tests\", name='discourse-graphs-tests'))\n",
    "space = space_r.json()\n",
    "print(space_r.status_code, space)"
   ]
  },
  {
   "cell_type": "code",
   "execution_count": null,
   "id": "9a6438ab-f5fc-407f-bd14-012eb0bfcd72",
   "metadata": {
    "scrolled": true
   },
   "outputs": [],
   "source": [
    "person_r = requests.post(url_base+\"/supabase/person\", json=dict(name=\"Marc-Antoine Parent\", email=\"maparent@conversence.com\"))\n",
    "person = person_r.json()\n",
    "print(person_r.status_code, person)"
   ]
  },
  {
   "cell_type": "code",
   "execution_count": null,
   "id": "cc3ce421-1910-4c0b-9eeb-1d9ab0f1ee0f",
   "metadata": {},
   "outputs": [],
   "source": [
    "document_r = requests.post(url_base+\"/supabase/document\", json=dict(\n",
    "    space_id=space['id'], source_local_id='abc',  created=\"2025/01/01\", last_modified=\"2025/01/01\", author_id=person[\"id\"] ))\n",
    "document = document_r.json()\n",
    "print(document_r.status_code, document)"
   ]
  },
  {
   "cell_type": "code",
   "execution_count": null,
   "id": "c21f9ddb-da7f-40bf-9b25-ddf34fab2b62",
   "metadata": {},
   "outputs": [],
   "source": [
    "txt1 = \"[CLM] The sun rises in the east\"\n",
    "content1_r = requests.post(url_base+\"/supabase/content\", json=dict(\n",
    "    space_id=space['id'], source_local_id='abc',  created=\"2025/01/01\", last_modified=\"2025/01/01\", \n",
    "    author_id=person[\"id\"], document_id=document['id'], text=txt1, scale='document' ))\n",
    "content1 = content1_r.json()\n",
    "print(content1_r.status_code, content)"
   ]
  },
  {
   "cell_type": "code",
   "execution_count": null,
   "id": "68c58f73-1cde-4dba-9b4d-44dd2ff79e03",
   "metadata": {},
   "outputs": [],
   "source": [
    "txt2 = \"[CLM] DNA codes for proteins\"\n",
    "content2_r = requests.post(url_base+\"/supabase/content\", json=dict(\n",
    "    space_id=space['id'], source_local_id='abc2',  created=\"2025/01/01\", last_modified=\"2025/01/01\", \n",
    "    author_id=person['id'], document_id=document['id'], text=txt2, scale='document' ))\n",
    "content2 = content2_r.json()\n",
    "print(content2_r.status_code, content)"
   ]
  },
  {
   "cell_type": "code",
   "execution_count": null,
   "id": "e81c2787-6fa2-46cf-a9e3-d5e412997143",
   "metadata": {},
   "outputs": [],
   "source": [
    "client = openai.Client()  # assuming key in env\n"
   ]
  },
  {
   "cell_type": "code",
   "execution_count": null,
   "id": "476f9ae3-1a20-4623-8208-e661e8c45d39",
   "metadata": {},
   "outputs": [],
   "source": [
    "emb1 = client.embeddings.create(input=txt1, model='text-embedding-3-small')"
   ]
  },
  {
   "cell_type": "code",
   "execution_count": null,
   "id": "f960165b-a4d8-45df-a68f-5b016d28e455",
   "metadata": {},
   "outputs": [],
   "source": [
    "emb2 = client.embeddings.create(input=txt2, model='text-embedding-3-small')"
   ]
  },
  {
   "cell_type": "code",
   "execution_count": null,
   "id": "c14718e1-f762-4cd5-a052-9210dd837db9",
   "metadata": {},
   "outputs": [],
   "source": [
    "emb1_r = requests.post(url_base+\"/supabase/content-embedding\", json=dict(vector=emb1.data[0].embedding, target_id=content['id'], model='openai_text_embedding_3_small_1536'))\n",
    "print(emb1_r.status_code)\n",
    "emb2_r = requests.post(url_base+\"/supabase/content-embedding\", json=dict(vector=emb2.data[0].embedding, target_id=content2['id'], model='openai_text_embedding_3_small_1536'))\n",
    "print(emb2_r.status_code)"
   ]
  },
  {
   "cell_type": "code",
   "execution_count": null,
   "id": "1010ff3b-cffb-42c4-8c2e-c6184d41f5b1",
   "metadata": {},
   "outputs": [],
   "source": [
    "# TODO Search tests"
   ]
  }
 ],
 "metadata": {
  "kernelspec": {
   "display_name": "Python 3 (ipykernel)",
   "language": "python",
   "name": "python3"
  },
  "language_info": {
   "codemirror_mode": {
    "name": "ipython",
    "version": 3
   },
   "file_extension": ".py",
   "mimetype": "text/x-python",
   "name": "python",
   "nbconvert_exporter": "python",
   "pygments_lexer": "ipython3",
   "version": "3.13.3"
  }
 },
 "nbformat": 4,
 "nbformat_minor": 5
}
